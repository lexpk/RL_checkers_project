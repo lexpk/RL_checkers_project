{
 "cells": [
  {
   "cell_type": "code",
   "execution_count": 1,
   "metadata": {},
   "outputs": [],
   "source": [
    "from checkers import Game, RandomPlayer\n",
    "from cengines import Easy, Simple"
   ]
  },
  {
   "cell_type": "code",
   "execution_count": 1,
   "metadata": {},
   "outputs": [],
   "source": [
    "from MCTD import *\n",
    "from TensorRepresentation import TensorRepresentation"
   ]
  },
  {
   "cell_type": "code",
   "execution_count": 2,
   "metadata": {},
   "outputs": [],
   "source": [
    "game = Game()"
   ]
  },
  {
   "cell_type": "code",
   "execution_count": 3,
   "metadata": {},
   "outputs": [
    {
     "ename": "NameError",
     "evalue": "name 'Easy' is not defined",
     "output_type": "error",
     "traceback": [
      "\u001b[1;31m---------------------------------------------------------------------------\u001b[0m",
      "\u001b[1;31mNameError\u001b[0m                                 Traceback (most recent call last)",
      "\u001b[1;32me:\\Alex\\Google Drive\\uni\\Wien\\RL\\RL_checkers_project\\test.ipynb Cell 4'\u001b[0m in \u001b[0;36m<cell line: 3>\u001b[1;34m()\u001b[0m\n\u001b[0;32m      <a href='vscode-notebook-cell:/e%3A/Alex/Google%20Drive/uni/Wien/RL/RL_checkers_project/test.ipynb#ch0000004?line=0'>1</a>\u001b[0m game \u001b[39m=\u001b[39m Game()\n\u001b[0;32m      <a href='vscode-notebook-cell:/e%3A/Alex/Google%20Drive/uni/Wien/RL/RL_checkers_project/test.ipynb#ch0000004?line=1'>2</a>\u001b[0m player \u001b[39m=\u001b[39m MCTD\u001b[39m.\u001b[39mfrom_file(\u001b[39m\"\u001b[39m\u001b[39mbootstrapped_80000_10000\u001b[39m\u001b[39m\"\u001b[39m)\n\u001b[1;32m----> <a href='vscode-notebook-cell:/e%3A/Alex/Google%20Drive/uni/Wien/RL/RL_checkers_project/test.ipynb#ch0000004?line=2'>3</a>\u001b[0m game\u001b[39m.\u001b[39msimulate(player, Easy(), movetime\u001b[39m=\u001b[39m\u001b[39m1\u001b[39m)\n",
      "\u001b[1;31mNameError\u001b[0m: name 'Easy' is not defined"
     ]
    }
   ],
   "source": [
    "game = Game()\n",
    "player = MCTD.from_file(\"bootstrapped_80000_10000\")\n",
    "game.simulate(player, Easy(), movetime=1)"
   ]
  },
  {
   "cell_type": "code",
   "execution_count": null,
   "metadata": {},
   "outputs": [],
   "source": []
  }
 ],
 "metadata": {
  "interpreter": {
   "hash": "8b86797cc4b491e23a503aceb5bea49208e060645d44effde7ce0e004b4a9120"
  },
  "kernelspec": {
   "display_name": "Python 3.9.12 ('checkers')",
   "language": "python",
   "name": "python3"
  },
  "language_info": {
   "codemirror_mode": {
    "name": "ipython",
    "version": 3
   },
   "file_extension": ".py",
   "mimetype": "text/x-python",
   "name": "python",
   "nbconvert_exporter": "python",
   "pygments_lexer": "ipython3",
   "version": "3.9.12"
  },
  "orig_nbformat": 4
 },
 "nbformat": 4,
 "nbformat_minor": 2
}

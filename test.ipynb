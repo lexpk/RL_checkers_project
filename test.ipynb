{
 "cells": [
  {
   "cell_type": "code",
   "execution_count": 1,
   "metadata": {},
   "outputs": [],
   "source": [
    "from MCTD import MCTD\n",
    "from checkers import Game, RandomPlayer\n",
    "from cengines import Easy"
   ]
  },
  {
   "cell_type": "code",
   "execution_count": null,
   "metadata": {},
   "outputs": [],
   "source": [
    "p1 = MCTD.from_file(\"Game100\")\n",
    "p2 = MCTD.from_file(\"Game200\")"
   ]
  }
 ],
 "metadata": {
  "kernelspec": {
   "display_name": "Python 3.9.12 ('checkers')",
   "language": "python",
   "name": "python3"
  },
  "language_info": {
   "codemirror_mode": {
    "name": "ipython",
    "version": 3
   },
   "file_extension": ".py",
   "mimetype": "text/x-python",
   "name": "python",
   "nbconvert_exporter": "python",
   "pygments_lexer": "ipython3",
   "version": "3.9.12"
  },
  "orig_nbformat": 4,
  "vscode": {
   "interpreter": {
    "hash": "62a5ef9e779a0ebdc10cc7dfce62af6845d6a1cf57562a637ec048c621bf10f9"
   }
  }
 },
 "nbformat": 4,
 "nbformat_minor": 2
}

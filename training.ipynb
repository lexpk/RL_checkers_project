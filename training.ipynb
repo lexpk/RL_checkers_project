{
 "cells": [
  {
   "cell_type": "markdown",
   "metadata": {},
   "source": [
    "## Generating models and learning"
   ]
  },
  {
   "cell_type": "code",
   "execution_count": 1,
   "metadata": {},
   "outputs": [],
   "source": [
    "from checkers import RandomPlayer\n",
    "from MCTD import *"
   ]
  },
  {
   "cell_type": "markdown",
   "metadata": {},
   "source": [
    "#### Initialize model by approximating material balance of random positions"
   ]
  },
  {
   "cell_type": "code",
   "execution_count": 2,
   "metadata": {},
   "outputs": [
    {
     "name": "stderr",
     "output_type": "stream",
     "text": [
      "Generating Random Positions: 100%|██████████| 100000/100000 [00:46<00:00, 2150.78it/s]\n",
      "                                                              \r"
     ]
    }
   ],
   "source": [
    "player = MCTD()\n",
    "player.bootstrap(100000, 10000)\n",
    "player.to_file('bootstrapped_100000_10000')"
   ]
  },
  {
   "cell_type": "markdown",
   "metadata": {},
   "source": [
    "#### Learn by playing random endgames"
   ]
  },
  {
   "cell_type": "code",
   "execution_count": 3,
   "metadata": {},
   "outputs": [
    {
     "name": "stderr",
     "output_type": "stream",
     "text": [
      "Playing: 100%|██████████| 10/10 [05:00<00:00, 30.00s/it]\n",
      "Playing: 100%|██████████| 10/10 [09:09<00:00, 54.94s/it]  \n",
      "Playing: 100%|██████████| 10/10 [05:05<00:00, 30.57s/it]   \n",
      "Playing: 100%|██████████| 10/10 [08:01<00:00, 48.11s/it]   \n",
      "Playing: 100%|██████████| 10/10 [05:08<00:00, 30.85s/it]   \n",
      "Playing: 100%|██████████| 10/10 [05:46<00:00, 34.66s/it]   \n",
      "Playing: 100%|██████████| 10/10 [11:29<00:00, 68.96s/it]   \n",
      "Playing: 100%|██████████| 10/10 [09:06<00:00, 54.61s/it]   \n",
      "Playing: 100%|██████████| 10/10 [07:23<00:00, 44.30s/it]   \n",
      "Playing: 100%|██████████| 10/10 [07:14<00:00, 43.47s/it]   \n",
      "                                                           \r"
     ]
    }
   ],
   "source": [
    "player = MCTD.from_file('bootstrapped_100000_10000')\n",
    "for j in range(2):\n",
    "    for i in range(5):\n",
    "        for _ in range(10):\n",
    "            player.learn_by_selfplay([Position.random(2 + i, 0, 1 + i, 0) for _ in range(10)], 0.5)\n",
    "        player.to_file(f'Endgame{4*j + i + 1}')\n"
   ]
  },
  {
   "cell_type": "markdown",
   "metadata": {},
   "source": [
    "#### Learn by selfplay"
   ]
  },
  {
   "cell_type": "code",
   "execution_count": 7,
   "metadata": {},
   "outputs": [
    {
     "name": "stderr",
     "output_type": "stream",
     "text": [
      "Playing: 100%|██████████| 10/10 [23:17<00:00, 139.80s/it]\n",
      "                                                           \r"
     ]
    }
   ],
   "source": [
    "player = MCTD.from_file(f'Endgame10')\n",
    "r = RandomPlayer()\n",
    "for i in range(10):\n",
    "    player.learn_by_selfplay([r.move(r.move(Position(), 0), 0) for _ in range(10)], 0.5, rendering = False)\n",
    "    player.to_file(f'Game{(i)*10}')\n",
    "    player = MCTD.from_file(f'Game{(i+30)*10}')"
   ]
  }
 ],
 "metadata": {
  "kernelspec": {
   "display_name": "Python 3.9.12 ('checkers')",
   "language": "python",
   "name": "python3"
  },
  "language_info": {
   "codemirror_mode": {
    "name": "ipython",
    "version": 3
   },
   "file_extension": ".py",
   "mimetype": "text/x-python",
   "name": "python",
   "nbconvert_exporter": "python",
   "pygments_lexer": "ipython3",
   "version": "3.9.12 (main, Apr  4 2022, 05:22:27) [MSC v.1916 64 bit (AMD64)]"
  },
  "orig_nbformat": 4,
  "vscode": {
   "interpreter": {
    "hash": "62a5ef9e779a0ebdc10cc7dfce62af6845d6a1cf57562a637ec048c621bf10f9"
   }
  }
 },
 "nbformat": 4,
 "nbformat_minor": 2
}
